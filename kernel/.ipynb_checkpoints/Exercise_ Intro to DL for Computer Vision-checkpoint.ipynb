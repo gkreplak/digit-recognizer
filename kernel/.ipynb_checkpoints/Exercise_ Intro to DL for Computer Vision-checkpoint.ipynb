{
 "cells": [
  {
   "cell_type": "markdown",
   "metadata": {
    "_uuid": "dfa26de2c0a3e57e602d8ea83fe350a79e52b7d2"
   },
   "source": [
    "# Intro\n",
    "\n",
    "You don't directly choose the numbers to go into your convolutions for deep learning... instead the deep learning technique determines what convolutions will be useful from the data (as part of model-training). We'll come back to how the model does that soon.\n",
    "\n",
    "![Imgur](https://i.imgur.com/op9Maqr.png)\n",
    "\n",
    "But looking closely at convolutions and how they are applied to your image will improve your intuition for these models, how they work, and how to debug them when they don't work.\n",
    "\n",
    "**Let's get started.**\n",
    "\n",
    "# Exercises\n",
    "We'll use some small utilty functions to visualize raw images and some results of your code. Execute the next cell to load the utility functions."
   ]
  },
  {
   "cell_type": "code",
   "execution_count": 1,
   "metadata": {},
   "outputs": [],
   "source": [
    "import sys, os \n",
    "sys.path.append(os.getcwd())"
   ]
  },
  {
   "cell_type": "code",
   "execution_count": 2,
   "metadata": {
    "_uuid": "22c9e254e85d81d9cf45a9b7a18bbc9231116c53"
   },
   "outputs": [
    {
     "name": "stdout",
     "output_type": "stream",
     "text": [
      "Setup Complete\n"
     ]
    }
   ],
   "source": [
    "# Set up code checking\n",
    "from learntools.core import binder\n",
    "binder.bind(globals())\n",
    "from learntools.deep_learning.exercise_1 import *\n",
    "print(\"Setup Complete\")"
   ]
  },
  {
   "cell_type": "markdown",
   "metadata": {
    "_uuid": "2f7dd43422b405ea73a9464824bad566f7a05085"
   },
   "source": [
    "### Exercise 1\n",
    "\n",
    "In the video, you saw a convolution that detected horizontal lines. That convolution shows up again in the code cell below.\n",
    "\n",
    "Run the cell to see a raw image as well as the output from applying this convolution to the image.\n"
   ]
  },
  {
   "cell_type": "code",
   "execution_count": 3,
   "metadata": {
    "_uuid": "dab59df103b380a0e296f18cbd426d73b554efa4"
   },
   "outputs": [
    {
     "ename": "FileNotFoundError",
     "evalue": "[Errno 2] No such file or directory: '../input/dog-breed-identification/train/0246f44bb123ce3f91c939861eb97fb7.jpg'",
     "output_type": "error",
     "traceback": [
      "\u001b[0;31m---------------------------------------------------------------------------\u001b[0m",
      "\u001b[0;31mFileNotFoundError\u001b[0m                         Traceback (most recent call last)",
      "\u001b[0;32m<ipython-input-3-89acb56b08c6>\u001b[0m in \u001b[0;36m<module>\u001b[0;34m()\u001b[0m\n\u001b[1;32m      2\u001b[0m                         [-1, -1]]\n\u001b[1;32m      3\u001b[0m \u001b[0;31m# load_my_image and visualize_conv are utility functions provided for this exercise\u001b[0m\u001b[0;34m\u001b[0m\u001b[0;34m\u001b[0m\u001b[0;34m\u001b[0m\u001b[0m\n\u001b[0;32m----> 4\u001b[0;31m \u001b[0moriginal_image\u001b[0m \u001b[0;34m=\u001b[0m \u001b[0mload_my_image\u001b[0m\u001b[0;34m(\u001b[0m\u001b[0;34m)\u001b[0m\u001b[0;34m\u001b[0m\u001b[0;34m\u001b[0m\u001b[0m\n\u001b[0m\u001b[1;32m      5\u001b[0m \u001b[0mvisualize_conv\u001b[0m\u001b[0;34m(\u001b[0m\u001b[0moriginal_image\u001b[0m\u001b[0;34m,\u001b[0m \u001b[0mhorizontal_line_conv\u001b[0m\u001b[0;34m)\u001b[0m\u001b[0;34m\u001b[0m\u001b[0;34m\u001b[0m\u001b[0m\n",
      "\u001b[0;32m~/anaconda3/lib/python3.6/site-packages/learntools/deep_learning/exercise_1.py\u001b[0m in \u001b[0;36mload_my_image\u001b[0;34m(fname)\u001b[0m\n\u001b[1;32m     71\u001b[0m \u001b[0;32mdef\u001b[0m \u001b[0mload_my_image\u001b[0m\u001b[0;34m(\u001b[0m\u001b[0mfname\u001b[0m \u001b[0;34m=\u001b[0m \u001b[0;34m'../input/dog-breed-identification/train/0246f44bb123ce3f91c939861eb97fb7.jpg'\u001b[0m\u001b[0;34m)\u001b[0m\u001b[0;34m:\u001b[0m\u001b[0;34m\u001b[0m\u001b[0;34m\u001b[0m\u001b[0m\n\u001b[1;32m     72\u001b[0m     \u001b[0;34m'''returns array containing greyscale values for supplied file (at thumbnail size)'''\u001b[0m\u001b[0;34m\u001b[0m\u001b[0;34m\u001b[0m\u001b[0m\n\u001b[0;32m---> 73\u001b[0;31m     \u001b[0mimage_color\u001b[0m \u001b[0;34m=\u001b[0m \u001b[0mImage\u001b[0m\u001b[0;34m.\u001b[0m\u001b[0mopen\u001b[0m\u001b[0;34m(\u001b[0m\u001b[0mfname\u001b[0m\u001b[0;34m)\u001b[0m\u001b[0;34m.\u001b[0m\u001b[0mresize\u001b[0m\u001b[0;34m(\u001b[0m\u001b[0;34m(\u001b[0m\u001b[0;36m135\u001b[0m\u001b[0;34m,\u001b[0m \u001b[0;36m188\u001b[0m\u001b[0;34m)\u001b[0m\u001b[0;34m,\u001b[0m \u001b[0mImage\u001b[0m\u001b[0;34m.\u001b[0m\u001b[0mANTIALIAS\u001b[0m\u001b[0;34m)\u001b[0m\u001b[0;34m\u001b[0m\u001b[0;34m\u001b[0m\u001b[0m\n\u001b[0m\u001b[1;32m     74\u001b[0m     \u001b[0mimage_grayscale\u001b[0m \u001b[0;34m=\u001b[0m \u001b[0mimage_color\u001b[0m\u001b[0;34m.\u001b[0m\u001b[0mconvert\u001b[0m\u001b[0;34m(\u001b[0m\u001b[0;34m'L'\u001b[0m\u001b[0;34m)\u001b[0m\u001b[0;34m\u001b[0m\u001b[0;34m\u001b[0m\u001b[0m\n\u001b[1;32m     75\u001b[0m     \u001b[0mimage_array\u001b[0m \u001b[0;34m=\u001b[0m \u001b[0mnp\u001b[0m\u001b[0;34m.\u001b[0m\u001b[0masarray\u001b[0m\u001b[0;34m(\u001b[0m\u001b[0mimage_grayscale\u001b[0m\u001b[0;34m)\u001b[0m\u001b[0;34m\u001b[0m\u001b[0;34m\u001b[0m\u001b[0m\n",
      "\u001b[0;32m~/anaconda3/lib/python3.6/site-packages/PIL/Image.py\u001b[0m in \u001b[0;36mopen\u001b[0;34m(fp, mode)\u001b[0m\n\u001b[1;32m   2541\u001b[0m \u001b[0;34m\u001b[0m\u001b[0m\n\u001b[1;32m   2542\u001b[0m     \u001b[0;32mif\u001b[0m \u001b[0mfilename\u001b[0m\u001b[0;34m:\u001b[0m\u001b[0;34m\u001b[0m\u001b[0;34m\u001b[0m\u001b[0m\n\u001b[0;32m-> 2543\u001b[0;31m         \u001b[0mfp\u001b[0m \u001b[0;34m=\u001b[0m \u001b[0mbuiltins\u001b[0m\u001b[0;34m.\u001b[0m\u001b[0mopen\u001b[0m\u001b[0;34m(\u001b[0m\u001b[0mfilename\u001b[0m\u001b[0;34m,\u001b[0m \u001b[0;34m\"rb\"\u001b[0m\u001b[0;34m)\u001b[0m\u001b[0;34m\u001b[0m\u001b[0;34m\u001b[0m\u001b[0m\n\u001b[0m\u001b[1;32m   2544\u001b[0m         \u001b[0mexclusive_fp\u001b[0m \u001b[0;34m=\u001b[0m \u001b[0;32mTrue\u001b[0m\u001b[0;34m\u001b[0m\u001b[0;34m\u001b[0m\u001b[0m\n\u001b[1;32m   2545\u001b[0m \u001b[0;34m\u001b[0m\u001b[0m\n",
      "\u001b[0;31mFileNotFoundError\u001b[0m: [Errno 2] No such file or directory: '../input/dog-breed-identification/train/0246f44bb123ce3f91c939861eb97fb7.jpg'"
     ]
    }
   ],
   "source": [
    "horizontal_line_conv = [[1, 1], \n",
    "                        [-1, -1]]\n",
    "# load_my_image and visualize_conv are utility functions provided for this exercise\n",
    "original_image = load_my_image() \n",
    "visualize_conv(original_image, horizontal_line_conv)"
   ]
  },
  {
   "cell_type": "markdown",
   "metadata": {
    "_uuid": "7b3e56ad9cdc9ecdcd01be9fb7d0441850abffd9"
   },
   "source": [
    "Now it's your turn. Instead of a horizontal line detector, you will create a vertical line detector.\n",
    "\n",
    "**Replace the underscores with numbers to make a vertical line detector and uncomment both lines of code in the cell below. Then run **"
   ]
  },
  {
   "cell_type": "code",
   "execution_count": 8,
   "metadata": {},
   "outputs": [
    {
     "name": "stdout",
     "output_type": "stream",
     "text": [
      "\u001b[31msample_submission.csv\u001b[m\u001b[m* \u001b[31mtest.csv\u001b[m\u001b[m*              \u001b[31mtrain.csv\u001b[m\u001b[m*\r\n"
     ]
    }
   ],
   "source": [
    "ls ../input"
   ]
  },
  {
   "cell_type": "code",
   "execution_count": null,
   "metadata": {
    "_uuid": "9e3bede740b2bc5802d2a9aea645ed47ac1e0180",
    "collapsed": true
   },
   "outputs": [],
   "source": [
    "vertical_line_conv = ____\n",
    "\n",
    "q_1.check()\n",
    "visualize_conv(original_image, vertical_line_conv)"
   ]
  },
  {
   "cell_type": "markdown",
   "metadata": {
    "_uuid": "149058a1e14013344ca5bcc91e3f8689ae1c4dda"
   },
   "source": [
    "If you'd like a hint or the solution, uncomment the appropriate line below."
   ]
  },
  {
   "cell_type": "code",
   "execution_count": null,
   "metadata": {
    "_uuid": "40b73f60a307a65f338e5f2a4398a742fed0b7a3"
   },
   "outputs": [],
   "source": [
    "#q_1.hint()\n",
    "#q_1.solution()"
   ]
  },
  {
   "cell_type": "markdown",
   "metadata": {
    "_uuid": "9b7ab0904ccdb4c97ae9ee67e5fb758d1bf09a78"
   },
   "source": [
    "### Exercise 2\n",
    "The convolutions you've seen are 2x2.  But you could have larger convolutions. They could be 3x3, 4x4, etc.  They don't even have to be square. Nothing prevents using a 4x7 convolution.\n",
    "\n",
    "Compare the number of visual patterns that can be captured by small convolutions. Which of the following is true?\n",
    "\n",
    "- There are more visual patterns that can be captured by large convolutions\n",
    "- There are fewer visual patterns that can be captured by large convolutions\n",
    "- The number of visual patterns that can be captured by large convolutions is the same as the number of visual patterns that can be captured by small convolutions?\n",
    "\n",
    "Once you think you know the answer, check it by uncommenting and running the line below."
   ]
  },
  {
   "cell_type": "code",
   "execution_count": null,
   "metadata": {
    "_uuid": "f172f3d82c571f3f4e535624dae565b650bce23d"
   },
   "outputs": [],
   "source": [
    "#q_2.solution()"
   ]
  },
  {
   "cell_type": "markdown",
   "metadata": {
    "_uuid": "8931720b0277735007ae1bb4da8b45cdf804e326"
   },
   "source": [
    "# Keep Going\n",
    "Now you are ready to **[combine convolutions into powerful models](https://www.kaggle.com/dansbecker/building-models-from-convolutions).** These models are fun to work with, so keep going.\n",
    "\n",
    "---\n",
    "**[Deep Learning Course Home Page](https://www.kaggle.com/learn/deep-learning)**\n"
   ]
  }
 ],
 "metadata": {
  "kernelspec": {
   "display_name": "Python 3",
   "language": "python",
   "name": "python3"
  },
  "language_info": {
   "codemirror_mode": {
    "name": "ipython",
    "version": 3
   },
   "file_extension": ".py",
   "mimetype": "text/x-python",
   "name": "python",
   "nbconvert_exporter": "python",
   "pygments_lexer": "ipython3",
   "version": "3.6.7"
  }
 },
 "nbformat": 4,
 "nbformat_minor": 1
}
